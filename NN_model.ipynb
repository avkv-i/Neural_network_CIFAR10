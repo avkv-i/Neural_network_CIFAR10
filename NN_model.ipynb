{
  "nbformat": 4,
  "nbformat_minor": 0,
  "metadata": {
    "colab": {
      "provenance": [],
      "gpuType": "T4"
    },
    "kernelspec": {
      "name": "python3",
      "display_name": "Python 3"
    },
    "language_info": {
      "name": "python"
    },
    "accelerator": "GPU"
  },
  "cells": [
    {
      "cell_type": "markdown",
      "source": [
        "# Importing Packages and Dataset"
      ],
      "metadata": {
        "id": "7yHmI5EQPrJf"
      }
    },
    {
      "cell_type": "code",
      "source": [
        "!pip install pyagrum"
      ],
      "metadata": {
        "colab": {
          "base_uri": "https://localhost:8080/"
        },
        "id": "gSCK7uFKCUUB",
        "outputId": "3dd60869-ee33-4e02-ded4-89e79e6e5fec"
      },
      "execution_count": null,
      "outputs": [
        {
          "output_type": "stream",
          "name": "stdout",
          "text": [
            "Collecting pyagrum\n",
            "  Downloading pyAgrum-1.13.0-cp310-cp310-manylinux2014_x86_64.whl (5.9 MB)\n",
            "\u001b[2K     \u001b[90m━━━━━━━━━━━━━━━━━━━━━━━━━━━━━━━━━━━━━━━━\u001b[0m \u001b[32m5.9/5.9 MB\u001b[0m \u001b[31m21.1 MB/s\u001b[0m eta \u001b[36m0:00:00\u001b[0m\n",
            "\u001b[?25hRequirement already satisfied: numpy in /usr/local/lib/python3.10/dist-packages (from pyagrum) (1.25.2)\n",
            "Requirement already satisfied: matplotlib in /usr/local/lib/python3.10/dist-packages (from pyagrum) (3.7.1)\n",
            "Requirement already satisfied: pydot in /usr/local/lib/python3.10/dist-packages (from pyagrum) (1.4.2)\n",
            "Requirement already satisfied: contourpy>=1.0.1 in /usr/local/lib/python3.10/dist-packages (from matplotlib->pyagrum) (1.2.0)\n",
            "Requirement already satisfied: cycler>=0.10 in /usr/local/lib/python3.10/dist-packages (from matplotlib->pyagrum) (0.12.1)\n",
            "Requirement already satisfied: fonttools>=4.22.0 in /usr/local/lib/python3.10/dist-packages (from matplotlib->pyagrum) (4.50.0)\n",
            "Requirement already satisfied: kiwisolver>=1.0.1 in /usr/local/lib/python3.10/dist-packages (from matplotlib->pyagrum) (1.4.5)\n",
            "Requirement already satisfied: packaging>=20.0 in /usr/local/lib/python3.10/dist-packages (from matplotlib->pyagrum) (24.0)\n",
            "Requirement already satisfied: pillow>=6.2.0 in /usr/local/lib/python3.10/dist-packages (from matplotlib->pyagrum) (9.4.0)\n",
            "Requirement already satisfied: pyparsing>=2.3.1 in /usr/local/lib/python3.10/dist-packages (from matplotlib->pyagrum) (3.1.2)\n",
            "Requirement already satisfied: python-dateutil>=2.7 in /usr/local/lib/python3.10/dist-packages (from matplotlib->pyagrum) (2.8.2)\n",
            "Requirement already satisfied: six>=1.5 in /usr/local/lib/python3.10/dist-packages (from python-dateutil>=2.7->matplotlib->pyagrum) (1.16.0)\n",
            "Installing collected packages: pyagrum\n",
            "Successfully installed pyagrum-1.13.0\n"
          ]
        }
      ]
    },
    {
      "cell_type": "code",
      "execution_count": null,
      "metadata": {
        "id": "j9rtFCQ_y2YM"
      },
      "outputs": [],
      "source": [
        "%matplotlib inline\n",
        "import matplotlib.pyplot as plt\n",
        "import torch\n",
        "import torchvision\n",
        "from torchvision import datasets, transforms\n",
        "from torch.utils.data import DataLoader\n",
        "import torch.nn as nn\n",
        "import torch.nn.functional as F"
      ]
    },
    {
      "cell_type": "code",
      "source": [
        "device = torch.device('cuda' if torch.cuda.is_available() else 'cpu')\n",
        "print(f'Using {device}.')"
      ],
      "metadata": {
        "colab": {
          "base_uri": "https://localhost:8080/"
        },
        "id": "Nj1ibRPjrKrZ",
        "outputId": "468f652c-8fff-456e-c3ba-a22fd9edfe0c"
      },
      "execution_count": null,
      "outputs": [
        {
          "output_type": "stream",
          "name": "stdout",
          "text": [
            "Using cuda.\n"
          ]
        }
      ]
    },
    {
      "cell_type": "code",
      "source": [
        "def load_data_cifar10(batch_size, resize=None):\n",
        "    \"\"\"Download the CIFAR-10 dataset and then load it into memory.\"\"\"\n",
        "    trans = [torchvision.transforms.ToTensor()]\n",
        "    if resize:\n",
        "        trans.insert(0, torchvision.transforms.Resize(resize))\n",
        "    trans = torchvision.transforms.Compose(trans)\n",
        "    cifar10_train = datasets.CIFAR10(\n",
        "        root=\"../data\", train=True, transform=trans, download=True)\n",
        "    cifar10_test = datasets.CIFAR10(\n",
        "        root=\"../data\", train=False, transform=trans, download=True)\n",
        "    return (torch.utils.data.DataLoader(cifar10_train, batch_size, shuffle=True,\n",
        "                       num_workers=2, pin_memory=True),\n",
        "            torch.utils.data.DataLoader(cifar10_test, batch_size, shuffle=False,\n",
        "                       num_workers=2, pin_memory=True))"
      ],
      "metadata": {
        "id": "jNblFgSa1Nm9"
      },
      "execution_count": null,
      "outputs": []
    },
    {
      "cell_type": "code",
      "source": [
        "batch_size = 64  # Defines the batch size\n",
        "train_loader, test_loader = load_data_cifar10(batch_size)  # Loads the CIFAR-10 dataset."
      ],
      "metadata": {
        "colab": {
          "base_uri": "https://localhost:8080/"
        },
        "id": "QItqq5V51msn",
        "outputId": "2c07138f-8a92-4260-8f13-b1a7b31248a3"
      },
      "execution_count": null,
      "outputs": [
        {
          "output_type": "stream",
          "name": "stdout",
          "text": [
            "Downloading https://www.cs.toronto.edu/~kriz/cifar-10-python.tar.gz to ../data/cifar-10-python.tar.gz\n"
          ]
        },
        {
          "output_type": "stream",
          "name": "stderr",
          "text": [
            "100%|██████████| 170498071/170498071 [00:04<00:00, 42456944.42it/s]\n"
          ]
        },
        {
          "output_type": "stream",
          "name": "stdout",
          "text": [
            "Extracting ../data/cifar-10-python.tar.gz to ../data\n",
            "Files already downloaded and verified\n"
          ]
        }
      ]
    },
    {
      "cell_type": "code",
      "source": [
        "X, y = next(iter(train_loader))  # Requests the first training batch\n",
        "print(X.size())  # 64 images per batch. Each image is represented by a 3 x 32 x 32 tensor (number of channels x height x width). The images are RGB, so there are three channels.\n",
        "print(y.size())  # 64 labels. Each label is a number between 0 and 9, representing the class of the image."
      ],
      "metadata": {
        "colab": {
          "base_uri": "https://localhost:8080/"
        },
        "id": "POmmgcvp2rVf",
        "outputId": "6af94521-d986-4890-c587-62e0ca03e0a9"
      },
      "execution_count": null,
      "outputs": [
        {
          "output_type": "stream",
          "name": "stdout",
          "text": [
            "torch.Size([64, 3, 32, 32])\n",
            "torch.Size([64])\n"
          ]
        }
      ]
    },
    {
      "cell_type": "code",
      "source": [
        "#to view images\n",
        "from google.colab.patches import cv2_imshow\n",
        "\n",
        "class_labels = ['airplane', 'automobile', 'bird', 'cat', 'deer', 'dog', 'frog', 'horse', 'ship', 'truck'] # Pre-defined class labels for CIFAR-10\n",
        "\n",
        "for i in range(3):\n",
        "    print(f'\\nImage {i} ({class_labels[int(y[i])]}):\\n') # Prints the index `i` and the label associated to the `i`-th image.\n",
        "    cv2_imshow(X[i].numpy().transpose(1, 2, 0) * 255) # Converts and displays the `i`-th image in the batch."
      ],
      "metadata": {
        "colab": {
          "base_uri": "https://localhost:8080/",
          "height": 269
        },
        "id": "mvnSsgGt1uzS",
        "outputId": "bea779fc-f8fa-45c5-9a0c-8b8fb6c29eab"
      },
      "execution_count": null,
      "outputs": [
        {
          "output_type": "stream",
          "name": "stdout",
          "text": [
            "\n",
            "Image 0 (bird):\n",
            "\n"
          ]
        },
        {
          "output_type": "display_data",
          "data": {
            "text/plain": [
              "<PIL.Image.Image image mode=RGB size=32x32>"
            ],
            "image/png": "[encoded data removed]"
          },
          "metadata": {}
        },
        {
          "output_type": "stream",
          "name": "stdout",
          "text": [
            "\n",
            "Image 1 (cat):\n",
            "\n"
          ]
        },
        {
          "output_type": "display_data",
          "data": {
            "text/plain": [
              "<PIL.Image.Image image mode=RGB size=32x32>"
            ],
            "image/png": "[encoded data removed]"
          },
          "metadata": {}
        },
        {
          "output_type": "stream",
          "name": "stdout",
          "text": [
            "\n",
            "Image 2 (ship):\n",
            "\n"
          ]
        },
        {
          "output_type": "display_data",
          "data": {
            "text/plain": [
              "<PIL.Image.Image image mode=RGB size=32x32>"
            ],
            "image/png": "[encoded data removed]"
          },
          "metadata": {}
        }
      ]
    },
    {
      "cell_type": "markdown",
      "source": [
        "# Creating Architecture"
      ],
      "metadata": {
        "id": "XatWDsRAP0KB"
      }
    },
    {
      "cell_type": "code",
      "source": [
        "class Block_1(torch.nn.Module):\n",
        "    def __init__(self, input_channels, output_channels, dropout_rate=0.5):\n",
        "        super(Block_1, self).__init__()\n",
        "\n",
        "        self.Conv1 = torch.nn.Conv2d(input_channels, output_channels, kernel_size=3, padding=1, stride=1)\n",
        "        self.Bn1 = torch.nn.BatchNorm2d(output_channels)\n",
        "        self.Relu1 = torch.nn.ReLU()\n",
        "\n",
        "        self.Conv2 = torch.nn.Conv2d(output_channels, output_channels, kernel_size=3, padding=1, stride=1)\n",
        "        self.Bn2 = torch.nn.BatchNorm2d(output_channels)\n",
        "        self.Relu2 = torch.nn.ReLU()\n",
        "\n",
        "        self.Conv3 = torch.nn.Conv2d(output_channels, output_channels, kernel_size=3, padding=1, stride=1)\n",
        "        self.Bn3 = torch.nn.BatchNorm2d(output_channels)\n",
        "        self.Dropout1 = torch.nn.Dropout(dropout_rate)\n",
        "\n",
        "    def forward(self, x):\n",
        "        out1 = self.Conv1(x)\n",
        "        out1 = self.Bn1(out1)\n",
        "        out1 = self.Relu1(out1)\n",
        "\n",
        "        out2 = self.Conv2(out1)\n",
        "        out2 = self.Bn2(out2)\n",
        "        out2 = self.Relu2(out2)\n",
        "\n",
        "        out3 = self.Conv3(out2)\n",
        "        out3 = self.Bn3(out3)\n",
        "        out3 = self.Dropout1(out3)\n",
        "\n",
        "        # Adjust dimensions of out1 and out2 to match out3\n",
        "        out1 = F.interpolate(out1, size=out3.shape[2:], mode='nearest')\n",
        "        out2 = F.interpolate(out2, size=out3.shape[2:], mode='nearest')\n",
        "\n",
        "\n",
        "        out = out1 + out2 + out3\n",
        "\n",
        "        return out\n"
      ],
      "metadata": {
        "id": "AR01qG760y3m"
      },
      "execution_count": null,
      "outputs": []
    },
    {
      "cell_type": "code",
      "source": [
        "class Block_2(torch.nn.Module):\n",
        "    def __init__(self, input_channels, output_channels, stride=1, dropout_rate=0.1):\n",
        "        super(Block_2, self).__init__()\n",
        "\n",
        "        self.Conv1 = torch.nn.Conv2d(input_channels, output_channels, kernel_size=5, padding=2, stride=stride)\n",
        "        self.Bn1n1 = torch.nn.BatchNorm2d(output_channels)\n",
        "        self.Relu1 = torch.nn.ReLU()\n",
        "\n",
        "        self.Conv2 = torch.nn.Conv2d(output_channels, output_channels, kernel_size=5, padding=2, stride=stride)\n",
        "        self.Bn2n2 = torch.nn.BatchNorm2d(output_channels)\n",
        "        self.Dropout1 = torch.nn.Dropout(dropout_rate)\n",
        "\n",
        "        self.Conv3 = None\n",
        "        if (input_channels != output_channels) or (stride != 1):\n",
        "            self.Conv3 = torch.nn.Conv2d(input_channels, output_channels, kernel_size=1, stride=stride)\n",
        "\n",
        "        self.Relu2 = torch.nn.ReLU()\n",
        "\n",
        "\n",
        "    def forward(self, x):\n",
        "        out1 = self.Conv1(x)\n",
        "        out1 = self.Bn1n1(out1)\n",
        "        out1 = self.Relu1(out1)\n",
        "\n",
        "        out2 = self.Conv2(out1)\n",
        "        out2 = self.Bn2n2(out2)\n",
        "        out2 = self.Dropout1(out2)\n",
        "\n",
        "        out3 = x if self.Conv3 is None else self.Conv3(x)\n",
        "\n",
        "        out = self.Relu2(out1 + out2 + out3)\n",
        "\n",
        "        return out\n"
      ],
      "metadata": {
        "id": "UGVM9gr6_dmR"
      },
      "execution_count": null,
      "outputs": []
    },
    {
      "cell_type": "code",
      "source": [
        "class Block_3(torch.nn.Module):\n",
        "   def __init__(self, input_channels, output_channels, dropout_rate=0.25):\n",
        "        super(Block_3, self).__init__()\n",
        "\n",
        "        self.Conv1 = torch.nn.Conv2d(input_channels, output_channels, kernel_size=3, padding=1, stride=1)\n",
        "        self.Bn1 = torch.nn.BatchNorm2d(output_channels)\n",
        "        self.Relu1 = torch.nn.ReLU()\n",
        "\n",
        "        self.Conv2 = torch.nn.Conv2d(output_channels, output_channels, kernel_size=3, padding=1, stride=1)\n",
        "        self.Bn2 = torch.nn.BatchNorm2d(output_channels)\n",
        "        self.Relu2 = torch.nn.ReLU()\n",
        "\n",
        "        self.Conv3 = torch.nn.Conv2d(output_channels, output_channels, kernel_size=3, padding=1, stride=1)\n",
        "        self.Bn3 = torch.nn.BatchNorm2d(output_channels)\n",
        "        self.Dropout1 = torch.nn.Dropout(dropout_rate)\n",
        "\n",
        "   def forward(self, x):\n",
        "        out1 = self.Conv1(x)\n",
        "        out1 = self.Bn1(out1)\n",
        "        out1 = self.Relu1(out1)\n",
        "\n",
        "        out2 = self.Conv2(out1)\n",
        "        out2 = self.Bn2(out2)\n",
        "        out2 = self.Relu2(out2)\n",
        "\n",
        "        out3 = self.Conv3(out2)\n",
        "        out3 = self.Bn3(out3)\n",
        "        out3 = self.Dropout1(out3)\n",
        "\n",
        "        # Adjust dimensions of out1 and out2 to match out3\n",
        "        out1 = F.interpolate(out1, size=out3.shape[2:], mode='nearest')\n",
        "        out2 = F.interpolate(out2, size=out3.shape[2:], mode='nearest')\n",
        "\n",
        "        out = out1 + out2 + out3\n",
        "\n",
        "        return out"
      ],
      "metadata": {
        "id": "7aNn4wVatYUO"
      },
      "execution_count": null,
      "outputs": []
    },
    {
      "cell_type": "markdown",
      "source": [
        "Checking each block with dummy data"
      ],
      "metadata": {
        "id": "5QWAFptOQFKv"
      }
    },
    {
      "cell_type": "code",
      "source": [
        "# from torchsummary import summary\n",
        "\n",
        "# # Define your model\n",
        "# model = Block_1(3, 64).to(device)\n",
        "\n",
        "# # Pass a dummy input tensor through your model\n",
        "# dummy_input = torch.randn(256, 3, 32, 32).to(device)  # dummy input tensor with appropriate dimensions\n",
        "# model.eval()  # Set the model to evaluation mode\n",
        "# with torch.no_grad():\n",
        "#     output = model(dummy_input)\n",
        "\n",
        "# # Print the model summary\n",
        "# summary(model, input_size=(3, 32, 32))\n"
      ],
      "metadata": {
        "colab": {
          "base_uri": "https://localhost:8080/"
        },
        "id": "GStRZVldSxnk",
        "outputId": "ab4cbb6b-22c1-4074-f796-e12b50f8f4f5"
      },
      "execution_count": null,
      "outputs": [
        {
          "output_type": "stream",
          "name": "stdout",
          "text": [
            "----------------------------------------------------------------\n",
            "        Layer (type)               Output Shape         Param #\n",
            "================================================================\n",
            "            Conv2d-1           [-1, 64, 32, 32]           1,792\n",
            "       BatchNorm2d-2           [-1, 64, 32, 32]             128\n",
            "              ReLU-3           [-1, 64, 32, 32]               0\n",
            "            Conv2d-4           [-1, 64, 32, 32]          36,928\n",
            "       BatchNorm2d-5           [-1, 64, 32, 32]             128\n",
            "              ReLU-6           [-1, 64, 32, 32]               0\n",
            "            Conv2d-7           [-1, 64, 32, 32]          36,928\n",
            "       BatchNorm2d-8           [-1, 64, 32, 32]             128\n",
            "           Dropout-9           [-1, 64, 32, 32]               0\n",
            "================================================================\n",
            "Total params: 76,032\n",
            "Trainable params: 76,032\n",
            "Non-trainable params: 0\n",
            "----------------------------------------------------------------\n",
            "Input size (MB): 0.01\n",
            "Forward/backward pass size (MB): 4.50\n",
            "Params size (MB): 0.29\n",
            "Estimated Total Size (MB): 4.80\n",
            "----------------------------------------------------------------\n"
          ]
        }
      ]
    },
    {
      "cell_type": "code",
      "source": [
        "# from torchsummary import summary\n",
        "\n",
        "# # Define your model\n",
        "# model = Block_2(64, 128).to(device)\n",
        "\n",
        "# # Pass a dummy input tensor through your model\n",
        "# dummy_input = torch.randn(256, 64, 32, 32).to(device)  # dummy input tensor with appropriate dimensions\n",
        "# model.eval()  # Set the model to evaluation mode\n",
        "# with torch.no_grad():\n",
        "#     output = model(dummy_input)\n",
        "\n",
        "# # Print the model summary\n",
        "# summary(model, input_size=(64, 32, 32))"
      ],
      "metadata": {
        "colab": {
          "base_uri": "https://localhost:8080/"
        },
        "id": "B3zg09HNYi7Y",
        "outputId": "6b230304-15e2-4045-8ba8-98f0f5862ed2"
      },
      "execution_count": null,
      "outputs": [
        {
          "output_type": "stream",
          "name": "stdout",
          "text": [
            "----------------------------------------------------------------\n",
            "        Layer (type)               Output Shape         Param #\n",
            "================================================================\n",
            "            Conv2d-1          [-1, 128, 32, 32]         204,928\n",
            "       BatchNorm2d-2          [-1, 128, 32, 32]             256\n",
            "              ReLU-3          [-1, 128, 32, 32]               0\n",
            "            Conv2d-4          [-1, 128, 32, 32]         409,728\n",
            "       BatchNorm2d-5          [-1, 128, 32, 32]             256\n",
            "           Dropout-6          [-1, 128, 32, 32]               0\n",
            "            Conv2d-7          [-1, 128, 32, 32]           8,320\n",
            "              ReLU-8          [-1, 128, 32, 32]               0\n",
            "================================================================\n",
            "Total params: 623,488\n",
            "Trainable params: 623,488\n",
            "Non-trainable params: 0\n",
            "----------------------------------------------------------------\n",
            "Input size (MB): 0.25\n",
            "Forward/backward pass size (MB): 8.00\n",
            "Params size (MB): 2.38\n",
            "Estimated Total Size (MB): 10.63\n",
            "----------------------------------------------------------------\n"
          ]
        }
      ]
    },
    {
      "cell_type": "code",
      "source": [
        "# # Define your model\n",
        "# model = Block_3(128, 256).to(device)\n",
        "\n",
        "# # Pass a dummy input tensor through your model\n",
        "# dummy_input = torch.randn(256, 128, 32, 32).to(device)  # dummy input tensor with appropriate dimensions\n",
        "# model.eval()  # Set the model to evaluation mode\n",
        "# with torch.no_grad():\n",
        "#     output = model(dummy_input)\n",
        "\n",
        "# # Print the model summary\n",
        "# summary(model, input_size=(128, 32, 32))"
      ],
      "metadata": {
        "colab": {
          "base_uri": "https://localhost:8080/"
        },
        "id": "ErSLnSbIgojW",
        "outputId": "342f8861-57cc-4a14-d348-00920c06c26e"
      },
      "execution_count": null,
      "outputs": [
        {
          "output_type": "stream",
          "name": "stdout",
          "text": [
            "----------------------------------------------------------------\n",
            "        Layer (type)               Output Shape         Param #\n",
            "================================================================\n",
            "            Conv2d-1          [-1, 256, 32, 32]         295,168\n",
            "       BatchNorm2d-2          [-1, 256, 32, 32]             512\n",
            "              ReLU-3          [-1, 256, 32, 32]               0\n",
            "            Conv2d-4          [-1, 256, 32, 32]         590,080\n",
            "       BatchNorm2d-5          [-1, 256, 32, 32]             512\n",
            "              ReLU-6          [-1, 256, 32, 32]               0\n",
            "            Conv2d-7          [-1, 256, 32, 32]         590,080\n",
            "       BatchNorm2d-8          [-1, 256, 32, 32]             512\n",
            "           Dropout-9          [-1, 256, 32, 32]               0\n",
            "================================================================\n",
            "Total params: 1,476,864\n",
            "Trainable params: 1,476,864\n",
            "Non-trainable params: 0\n",
            "----------------------------------------------------------------\n",
            "Input size (MB): 0.50\n",
            "Forward/backward pass size (MB): 18.00\n",
            "Params size (MB): 5.63\n",
            "Estimated Total Size (MB): 24.13\n",
            "----------------------------------------------------------------\n"
          ]
        }
      ]
    },
    {
      "cell_type": "code",
      "source": [
        "# # Create dummy input tensor\n",
        "# dummy_input = torch.randn(1, 3, 32, 32).to(device)  # input size of (batch_size, channels, height, width)\n",
        "\n",
        "# # Instantiate the blocks\n",
        "# block1 = Block_1(input_channels=3, output_channels=64).to(device)\n",
        "# block2 = Block_2(input_channels=64, output_channels=128).to(device)\n",
        "# block3 = Block_3(input_channels=128, output_channels=256).to(device)\n",
        "\n",
        "# # Pass the input through each block\n",
        "# out1 = block1(dummy_input)\n",
        "# out2 = block2(out1)\n",
        "# out3 = block3(out2)\n",
        "\n",
        "# # Print the shapes of the output tensors\n",
        "# print(\"Output shape after Block 1:\", out1.shape)\n",
        "# print(\"Output shape after Block 2:\", out2.shape)\n",
        "# print(\"Output shape after Block 3:\", out3.shape)\n",
        "\n",
        "# # Print model summary\n",
        "# from torchsummary import summary\n",
        "# summary(block1, input_size=(3, 32, 32))\n",
        "# summary(block2, input_size=(64, 16, 16))  # Input size after Block 1\n",
        "# summary(block3, input_size=(128, 8, 8))   # Input size after Block 2\n"
      ],
      "metadata": {
        "colab": {
          "base_uri": "https://localhost:8080/"
        },
        "id": "Tsm5WYFMRFWr",
        "outputId": "1b643ef0-5490-498d-b459-ecf76ce0fd24"
      },
      "execution_count": null,
      "outputs": [
        {
          "output_type": "stream",
          "name": "stdout",
          "text": [
            "Output shape after Block 1: torch.Size([1, 64, 32, 32])\n",
            "Output shape after Block 2: torch.Size([1, 128, 32, 32])\n",
            "Output shape after Block 3: torch.Size([1, 256, 32, 32])\n",
            "----------------------------------------------------------------\n",
            "        Layer (type)               Output Shape         Param #\n",
            "================================================================\n",
            "            Conv2d-1           [-1, 64, 32, 32]           1,792\n",
            "       BatchNorm2d-2           [-1, 64, 32, 32]             128\n",
            "              ReLU-3           [-1, 64, 32, 32]               0\n",
            "            Conv2d-4           [-1, 64, 32, 32]          36,928\n",
            "       BatchNorm2d-5           [-1, 64, 32, 32]             128\n",
            "              ReLU-6           [-1, 64, 32, 32]               0\n",
            "            Conv2d-7           [-1, 64, 32, 32]          36,928\n",
            "       BatchNorm2d-8           [-1, 64, 32, 32]             128\n",
            "           Dropout-9           [-1, 64, 32, 32]               0\n",
            "================================================================\n",
            "Total params: 76,032\n",
            "Trainable params: 76,032\n",
            "Non-trainable params: 0\n",
            "----------------------------------------------------------------\n",
            "Input size (MB): 0.01\n",
            "Forward/backward pass size (MB): 4.50\n",
            "Params size (MB): 0.29\n",
            "Estimated Total Size (MB): 4.80\n",
            "----------------------------------------------------------------\n",
            "----------------------------------------------------------------\n",
            "        Layer (type)               Output Shape         Param #\n",
            "================================================================\n",
            "            Conv2d-1          [-1, 128, 16, 16]         204,928\n",
            "       BatchNorm2d-2          [-1, 128, 16, 16]             256\n",
            "              ReLU-3          [-1, 128, 16, 16]               0\n",
            "            Conv2d-4          [-1, 128, 16, 16]         409,728\n",
            "       BatchNorm2d-5          [-1, 128, 16, 16]             256\n",
            "           Dropout-6          [-1, 128, 16, 16]               0\n",
            "            Conv2d-7          [-1, 128, 16, 16]           8,320\n",
            "              ReLU-8          [-1, 128, 16, 16]               0\n",
            "================================================================\n",
            "Total params: 623,488\n",
            "Trainable params: 623,488\n",
            "Non-trainable params: 0\n",
            "----------------------------------------------------------------\n",
            "Input size (MB): 0.06\n",
            "Forward/backward pass size (MB): 2.00\n",
            "Params size (MB): 2.38\n",
            "Estimated Total Size (MB): 4.44\n",
            "----------------------------------------------------------------\n",
            "----------------------------------------------------------------\n",
            "        Layer (type)               Output Shape         Param #\n",
            "================================================================\n",
            "            Conv2d-1            [-1, 256, 8, 8]         295,168\n",
            "       BatchNorm2d-2            [-1, 256, 8, 8]             512\n",
            "              ReLU-3            [-1, 256, 8, 8]               0\n",
            "            Conv2d-4            [-1, 256, 8, 8]         590,080\n",
            "       BatchNorm2d-5            [-1, 256, 8, 8]             512\n",
            "              ReLU-6            [-1, 256, 8, 8]               0\n",
            "            Conv2d-7            [-1, 256, 8, 8]         590,080\n",
            "       BatchNorm2d-8            [-1, 256, 8, 8]             512\n",
            "           Dropout-9            [-1, 256, 8, 8]               0\n",
            "================================================================\n",
            "Total params: 1,476,864\n",
            "Trainable params: 1,476,864\n",
            "Non-trainable params: 0\n",
            "----------------------------------------------------------------\n",
            "Input size (MB): 0.03\n",
            "Forward/backward pass size (MB): 1.12\n",
            "Params size (MB): 5.63\n",
            "Estimated Total Size (MB): 6.79\n",
            "----------------------------------------------------------------\n"
          ]
        }
      ]
    },
    {
      "cell_type": "code",
      "source": [
        "class OutputBlock(torch.nn.Module):\n",
        "    def __init__(self, input_channels, num_outputs):\n",
        "        super(OutputBlock, self).__init__()\n",
        "        self.avg_pool = torch.nn.AdaptiveAvgPool2d((1, 1))\n",
        "        self.flatten = torch.nn.Flatten()  # Flatten layer to flatten output of previous layer\n",
        "        self.fc_layers = torch.nn.Sequential(\n",
        "            torch.nn.Linear(input_channels, 512),\n",
        "            torch.nn.ReLU(),\n",
        "            torch.nn.Dropout(),\n",
        "            torch.nn.Linear(512, num_outputs)\n",
        "        )\n",
        "\n",
        "    def forward(self, x):\n",
        "        avg_features = self.avg_pool(x)\n",
        "        avg_features = self.flatten(avg_features)\n",
        "        logits = self.fc_layers(avg_features)\n",
        "        return logits\n"
      ],
      "metadata": {
        "id": "d--TmTBxlxzc"
      },
      "execution_count": null,
      "outputs": []
    },
    {
      "cell_type": "markdown",
      "source": [
        "Architecture"
      ],
      "metadata": {
        "id": "6gh1sUk5QRxb"
      }
    },
    {
      "cell_type": "code",
      "source": [
        "class Model(torch.nn.Module):\n",
        "    def __init__(self, num_outputs):\n",
        "      super(Model, self).__init__()\n",
        "\n",
        "      self.num_outputs = num_outputs\n",
        "      self.block1 = Block_1(3, 64)\n",
        "      self.block2 = Block_2(64, 128)\n",
        "      self.block3 = Block_3(128, 256)\n",
        "      self.output_block = OutputBlock(256, num_outputs)\n",
        "\n",
        "    def forward(self, x):\n",
        "      out = self.block1(x)\n",
        "      out = self.block2(out)\n",
        "      out = self.block3(out)\n",
        "      logits = self.output_block(out)\n",
        "\n",
        "      return logits"
      ],
      "metadata": {
        "id": "I0W9VsmthEcp"
      },
      "execution_count": null,
      "outputs": []
    },
    {
      "cell_type": "code",
      "source": [
        "model = Model(num_outputs=10).to(device)  # Assuming num_outputs=10 for CIFAR-10 classification"
      ],
      "metadata": {
        "id": "txe2cee_mMpX"
      },
      "execution_count": null,
      "outputs": []
    },
    {
      "cell_type": "code",
      "source": [
        "def init_weights(m):\n",
        "    if type(m) == torch.nn.Linear or type(m) == torch.nn.Conv2d:\n",
        "        torch.nn.init.xavier_uniform_(m.weight)\n",
        "\n",
        "num_outputs = 10\n",
        "\n",
        "model = Model(10).to(device) # Creates and moves the model to `device`\n",
        "model.apply(init_weights) # Applies `init_weights` to every `torch.nn.Module` inside `model`"
      ],
      "metadata": {
        "colab": {
          "base_uri": "https://localhost:8080/"
        },
        "id": "3tdlE4Dmp6Wb",
        "outputId": "3264d4c0-b21e-4207-d774-24b344958c28"
      },
      "execution_count": null,
      "outputs": [
        {
          "output_type": "execute_result",
          "data": {
            "text/plain": [
              "Model(\n",
              "  (block1): Block_1(\n",
              "    (Conv1): Conv2d(3, 64, kernel_size=(3, 3), stride=(1, 1), padding=(1, 1))\n",
              "    (Bn1): BatchNorm2d(64, eps=1e-05, momentum=0.1, affine=True, track_running_stats=True)\n",
              "    (Relu1): ReLU()\n",
              "    (Conv2): Conv2d(64, 64, kernel_size=(3, 3), stride=(1, 1), padding=(1, 1))\n",
              "    (Bn2): BatchNorm2d(64, eps=1e-05, momentum=0.1, affine=True, track_running_stats=True)\n",
              "    (Relu2): ReLU()\n",
              "    (Conv3): Conv2d(64, 64, kernel_size=(3, 3), stride=(1, 1), padding=(1, 1))\n",
              "    (Bn3): BatchNorm2d(64, eps=1e-05, momentum=0.1, affine=True, track_running_stats=True)\n",
              "    (Dropout1): Dropout(p=0.5, inplace=False)\n",
              "  )\n",
              "  (block2): Block_2(\n",
              "    (Conv1): Conv2d(64, 128, kernel_size=(5, 5), stride=(1, 1), padding=(2, 2))\n",
              "    (Bn1n1): BatchNorm2d(128, eps=1e-05, momentum=0.1, affine=True, track_running_stats=True)\n",
              "    (Relu1): ReLU()\n",
              "    (Conv2): Conv2d(128, 128, kernel_size=(5, 5), stride=(1, 1), padding=(2, 2))\n",
              "    (Bn2n2): BatchNorm2d(128, eps=1e-05, momentum=0.1, affine=True, track_running_stats=True)\n",
              "    (Dropout1): Dropout(p=0.1, inplace=False)\n",
              "    (Conv3): Conv2d(64, 128, kernel_size=(1, 1), stride=(1, 1))\n",
              "    (Relu2): ReLU()\n",
              "  )\n",
              "  (block3): Block_3(\n",
              "    (Conv1): Conv2d(128, 256, kernel_size=(3, 3), stride=(1, 1), padding=(1, 1))\n",
              "    (Bn1): BatchNorm2d(256, eps=1e-05, momentum=0.1, affine=True, track_running_stats=True)\n",
              "    (Relu1): ReLU()\n",
              "    (Conv2): Conv2d(256, 256, kernel_size=(3, 3), stride=(1, 1), padding=(1, 1))\n",
              "    (Bn2): BatchNorm2d(256, eps=1e-05, momentum=0.1, affine=True, track_running_stats=True)\n",
              "    (Relu2): ReLU()\n",
              "    (Conv3): Conv2d(256, 256, kernel_size=(3, 3), stride=(1, 1), padding=(1, 1))\n",
              "    (Bn3): BatchNorm2d(256, eps=1e-05, momentum=0.1, affine=True, track_running_stats=True)\n",
              "    (Dropout1): Dropout(p=0.25, inplace=False)\n",
              "  )\n",
              "  (output_block): OutputBlock(\n",
              "    (avg_pool): AdaptiveAvgPool2d(output_size=(1, 1))\n",
              "    (flatten): Flatten(start_dim=1, end_dim=-1)\n",
              "    (fc_layers): Sequential(\n",
              "      (0): Linear(in_features=256, out_features=512, bias=True)\n",
              "      (1): ReLU()\n",
              "      (2): Dropout(p=0.5, inplace=False)\n",
              "      (3): Linear(in_features=512, out_features=10, bias=True)\n",
              "    )\n",
              "  )\n",
              ")"
            ]
          },
          "metadata": {},
          "execution_count": 25
        }
      ]
    },
    {
      "cell_type": "markdown",
      "source": [
        "# Loss Function"
      ],
      "metadata": {
        "id": "8Hb6Y0TTQnOR"
      }
    },
    {
      "cell_type": "code",
      "source": [
        "loss = torch.nn.CrossEntropyLoss()"
      ],
      "metadata": {
        "id": "vgvHrs53y27c"
      },
      "execution_count": null,
      "outputs": []
    },
    {
      "cell_type": "code",
      "source": [
        "lr = 0.001\n",
        "optimizer = torch.optim.Adam(model.parameters(), lr=lr, betas=(0.9, 0.99))"
      ],
      "metadata": {
        "id": "fxCle-zxy5zw"
      },
      "execution_count": null,
      "outputs": []
    },
    {
      "cell_type": "markdown",
      "source": [
        "# Evaluation"
      ],
      "metadata": {
        "id": "Tf_D_rZvQryP"
      }
    },
    {
      "cell_type": "code",
      "source": [
        "def correct(logits, y):\n",
        "    y_hat = logits.argmax(axis=1) # Finds the column with the highest value for each row of `logits`.\n",
        "    return (y_hat == y).float().sum() # Computes the number of times that `y_hat` and `y` match."
      ],
      "metadata": {
        "id": "Wwz-dbjNy60b"
      },
      "execution_count": null,
      "outputs": []
    },
    {
      "cell_type": "code",
      "source": [
        "def evaluate_metric(model, data_iter, metric):\n",
        "    \"\"\"Compute the average `metric` of the model on a dataset.\"\"\"\n",
        "    c = 0.\n",
        "    n = 0.\n",
        "    for X, y in data_iter:\n",
        "        X, y = X.to(device), y.to(device) # Moves data to `device`\n",
        "        logits = model(X)\n",
        "        c += metric(logits, y)\n",
        "        n += len(y)\n",
        "\n",
        "    return float(c / n)"
      ],
      "metadata": {
        "id": "P7vXEK08y97V"
      },
      "execution_count": null,
      "outputs": []
    },
    {
      "cell_type": "markdown",
      "source": [
        "# Training"
      ],
      "metadata": {
        "id": "NhMS5ug1QvWi"
      }
    },
    {
      "cell_type": "code",
      "source": [
        "#reran again after finishing training !\n",
        "model.eval() # This is necessary because batch normalization behaves differently between training and evaluation\n",
        "print(f'Training accuracy: {evaluate_metric(model, train_loader, correct)}. Testing accuracy: {evaluate_metric(model, test_loader, correct)}.')"
      ],
      "metadata": {
        "id": "WwK-A8F2zBY_",
        "colab": {
          "base_uri": "https://localhost:8080/"
        },
        "outputId": "08dcf093-b442-413d-c3f8-b4dbcd534361"
      },
      "execution_count": null,
      "outputs": [
        {
          "output_type": "stream",
          "name": "stdout",
          "text": [
            "Training accuracy: 0.9488799571990967. Testing accuracy: 0.8585999608039856.\n"
          ]
        }
      ]
    },
    {
      "cell_type": "code",
      "source": [
        "import time\n",
        "losses = [] # Stores the loss for each training batch\n",
        "train_accs = [] # Stores the training accuracy after each epoch\n",
        "test_accs = [] # Stores the testing accuracy after each epoch\n",
        "\n",
        "num_epochs = 20\n",
        "for epoch in range(num_epochs):\n",
        "    print(f'\\nEpoch {epoch + 1}/{num_epochs}.')\n",
        "    start_time = time.perf_counter()\n",
        "\n",
        "    model.train() # This is necessary because batch normalization behaves differently between training and evaluation\n",
        "\n",
        "    for X, y in train_loader:\n",
        "        X, y = X.to(device), y.to(device) # Moves data to `device`\n",
        "        logits = model(X) # Computes the logits for the batch of images `X`\n",
        "\n",
        "        l = loss(logits, y) # Computes the loss given the `logits` and the class vector `y`\n",
        "        optimizer.zero_grad() # Zeroes the gradients stored in the model parameters\n",
        "        l.backward() # Computes the gradient of the loss `l` with respect to the model parameters\n",
        "\n",
        "        optimizer.step() # Updates the model parameters based on the gradients stored inside them\n",
        "\n",
        "        losses.append(float(l)) # Stores the loss for this batch\n",
        "\n",
        "    with torch.no_grad(): # Computing performance metrics does not require gradients\n",
        "        model.eval() # This is necessary because batch normalization behaves differently between training and evaluation\n",
        "        train_accs.append(evaluate_metric(model, train_loader, correct))\n",
        "        test_accs.append(evaluate_metric(model, test_loader, correct))\n",
        "\n",
        "        end_time = time.perf_counter()\n",
        "\n",
        "        print(f'Training accuracy: {train_accs[-1]}. Testing accuracy: {test_accs[-1]}. Duration: {end_time - start_time:.3f}s.') # Computes and displays training/testing dataset accuracy.\n",
        "\n",
        "plt.plot(losses) # Plots the loss for each training batch\n",
        "plt.xlabel('Training batch')\n",
        "plt.ylabel('Cross entropy loss')\n",
        "plt.show()\n",
        "\n",
        "plt.plot(train_accs, label='Training accuracy')\n",
        "plt.plot(test_accs, label='Testing accuracy')\n",
        "plt.legend(loc='best')\n",
        "plt.xlabel('Epoch')\n",
        "plt.show()"
      ],
      "metadata": {
        "colab": {
          "base_uri": "https://localhost:8080/",
          "height": 1000
        },
        "id": "9E7jdx5RqkcX",
        "outputId": "61e943fb-c071-469b-89ce-866ac1593ae8"
      },
      "execution_count": null,
      "outputs": [
        {
          "output_type": "stream",
          "name": "stdout",
          "text": [
            "\n",
            "Epoch 1/20.\n",
            "Training accuracy: 0.5240600109100342. Testing accuracy: 0.5218999981880188. Duration: 125.441s.\n",
            "\n",
            "Epoch 2/20.\n",
            "Training accuracy: 0.5471000075340271. Testing accuracy: 0.5403000116348267. Duration: 125.618s.\n",
            "\n",
            "Epoch 3/20.\n",
            "Training accuracy: 0.5637800097465515. Testing accuracy: 0.5575000047683716. Duration: 125.731s.\n",
            "\n",
            "Epoch 4/20.\n",
            "Training accuracy: 0.618179976940155. Testing accuracy: 0.6015999913215637. Duration: 126.216s.\n",
            "\n",
            "Epoch 5/20.\n",
            "Training accuracy: 0.6808599829673767. Testing accuracy: 0.6553999781608582. Duration: 126.053s.\n",
            "\n",
            "Epoch 6/20.\n",
            "Training accuracy: 0.7691799998283386. Testing accuracy: 0.7423999905586243. Duration: 125.567s.\n",
            "\n",
            "Epoch 7/20.\n",
            "Training accuracy: 0.7919600009918213. Testing accuracy: 0.7622999548912048. Duration: 125.578s.\n",
            "\n",
            "Epoch 8/20.\n",
            "Training accuracy: 0.8282999992370605. Testing accuracy: 0.7931999564170837. Duration: 125.505s.\n",
            "\n",
            "Epoch 9/20.\n",
            "Training accuracy: 0.7608399987220764. Testing accuracy: 0.7252999544143677. Duration: 125.713s.\n",
            "\n",
            "Epoch 10/20.\n",
            "Training accuracy: 0.8660799860954285. Testing accuracy: 0.8204999566078186. Duration: 125.333s.\n",
            "\n",
            "Epoch 11/20.\n",
            "Training accuracy: 0.8323999643325806. Testing accuracy: 0.7846999764442444. Duration: 125.969s.\n",
            "\n",
            "Epoch 12/20.\n",
            "Training accuracy: 0.8647399544715881. Testing accuracy: 0.8127999901771545. Duration: 125.433s.\n",
            "\n",
            "Epoch 13/20.\n",
            "Training accuracy: 0.8433799743652344. Testing accuracy: 0.786899983882904. Duration: 124.914s.\n",
            "\n",
            "Epoch 14/20.\n",
            "Training accuracy: 0.9124400019645691. Testing accuracy: 0.8481000065803528. Duration: 124.843s.\n",
            "\n",
            "Epoch 15/20.\n",
            "Training accuracy: 0.8998199701309204. Testing accuracy: 0.8335999846458435. Duration: 124.768s.\n",
            "\n",
            "Epoch 16/20.\n",
            "Training accuracy: 0.9226799607276917. Testing accuracy: 0.8519999980926514. Duration: 124.584s.\n",
            "\n",
            "Epoch 17/20.\n",
            "Training accuracy: 0.9109799861907959. Testing accuracy: 0.8323999643325806. Duration: 124.520s.\n",
            "\n",
            "Epoch 18/20.\n",
            "Training accuracy: 0.9289599657058716. Testing accuracy: 0.8395999670028687. Duration: 124.293s.\n",
            "\n",
            "Epoch 19/20.\n",
            "Training accuracy: 0.9106199741363525. Testing accuracy: 0.8258000016212463. Duration: 124.403s.\n",
            "\n",
            "Epoch 20/20.\n",
            "Training accuracy: 0.9488799571990967. Testing accuracy: 0.8585999608039856. Duration: 124.236s.\n"
          ]
        },
        {
          "output_type": "display_data",
          "data": {
            "text/plain": [
              "<Figure size 640x480 with 1 Axes>"
            ],
            "image/png": "[encoded data removed]"
          },
          "metadata": {}
        },
        {
          "output_type": "display_data",
          "data": {
            "text/plain": [
              "<Figure size 640x480 with 1 Axes>"
            ],
            "image/png": "[encoded data removed]"
          },
          "metadata": {}
        }
      ]
    }
  ]
}